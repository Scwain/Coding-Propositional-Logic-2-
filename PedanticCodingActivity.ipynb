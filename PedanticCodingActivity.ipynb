{
 "cells": [
  {
   "cell_type": "markdown",
   "metadata": {},
   "source": [
    "Question 1\n",
    "\n",
    "Given the English statement:\n",
    "\n",
    "Add additional fries and drinks to the order if the customer would buy a Cheese Burger Deluxe but add a Sundae instead if they do not. Always remember to print the receipt for every transaction.\n",
    "p: The customer would buy a Cheese Burger Deluxe \n",
    "q: Add additional fries and drinks to the order\n",
    "r: add sundae if not.\n",
    "WFF:\n",
    "(p→q)^(¬p→)\n"
   ]
  },
  {
   "cell_type": "code",
   "execution_count": 4,
   "metadata": {},
   "outputs": [
    {
     "name": "stdout",
     "output_type": "stream",
     "text": [
      "You ordered a Cheese Burger Deluxe\n",
      "with additional fries and drinks\n"
     ]
    }
   ],
   "source": [
    "qorder = True\n",
    "if (qorder):\n",
    "    print(\"You ordered a Cheese Burger Deluxe\")\n",
    "    print(\"with additional fries and drinks\")\n",
    "else:\n",
    "    print(\"add additional sundae if not\")"
   ]
  },
  {
   "cell_type": "code",
   "execution_count": null,
   "metadata": {},
   "outputs": [],
   "source": []
  }
 ],
 "metadata": {
  "kernelspec": {
   "display_name": "Python 3",
   "language": "python",
   "name": "python3"
  },
  "language_info": {
   "codemirror_mode": {
    "name": "ipython",
    "version": 3
   },
   "file_extension": ".py",
   "mimetype": "text/x-python",
   "name": "python",
   "nbconvert_exporter": "python",
   "pygments_lexer": "ipython3",
   "version": "3.8.3"
  }
 },
 "nbformat": 4,
 "nbformat_minor": 4
}
